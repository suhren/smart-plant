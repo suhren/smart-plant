{
 "cells": [
  {
   "cell_type": "code",
   "execution_count": 1,
   "id": "647ab7e9-e5bc-4c89-9ae5-e5af6e256720",
   "metadata": {},
   "outputs": [],
   "source": [
    "import time\n",
    "import requests"
   ]
  },
  {
   "cell_type": "code",
   "execution_count": 2,
   "id": "5fabf91b-1bd9-42c4-bc8e-701f95224ec4",
   "metadata": {},
   "outputs": [],
   "source": [
    "def read(n: int = 5, t: int = 10):\n",
    "    \n",
    "    params = {'n': n, 't': t}\n",
    "    x = requests.get('http://192.168.1.125/read', params=params)\n",
    "    \n",
    "    if x.status_code == 200:\n",
    "        return x.json()\n",
    "    else:\n",
    "        return None"
   ]
  },
  {
   "cell_type": "code",
   "execution_count": 98,
   "id": "4c5b9b36-0868-4974-859b-29f58ab16058",
   "metadata": {},
   "outputs": [
    {
     "data": {
      "text/plain": [
       "{'temperature': 24.2, 'humidity': 54, 'moisture': 1659}"
      ]
     },
     "execution_count": 98,
     "metadata": {},
     "output_type": "execute_result"
    }
   ],
   "source": [
    "read(n=None, t=None)"
   ]
  },
  {
   "cell_type": "code",
   "execution_count": null,
   "id": "b0b3f4b0-d37d-416a-b045-4f164c46de8d",
   "metadata": {},
   "outputs": [],
   "source": []
  }
 ],
 "metadata": {
  "kernelspec": {
   "display_name": "Python 3",
   "language": "python",
   "name": "python3"
  },
  "language_info": {
   "codemirror_mode": {
    "name": "ipython",
    "version": 3
   },
   "file_extension": ".py",
   "mimetype": "text/x-python",
   "name": "python",
   "nbconvert_exporter": "python",
   "pygments_lexer": "ipython3",
   "version": "3.8.10"
  }
 },
 "nbformat": 4,
 "nbformat_minor": 5
}

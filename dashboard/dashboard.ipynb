{
 "cells": [
  {
   "cell_type": "code",
   "execution_count": 1,
   "metadata": {},
   "outputs": [],
   "source": [
    "import time\n",
    "import requests\n",
    "\n",
    "from jupyter_dash import JupyterDash\n",
    "import dash\n",
    "import dash_bootstrap_components as dbc\n",
    "import dash_core_components as dcc\n",
    "import dash_html_components as html\n",
    "\n",
    "from dash.dependencies import Output\n",
    "from dash.dependencies import Input"
   ]
  },
  {
   "cell_type": "code",
   "execution_count": 2,
   "metadata": {},
   "outputs": [],
   "source": [
    "IP = '192.168.1.11'\n",
    "EXTERNAL_STYLESHEETS = ['https://cdn.jsdelivr.net/npm/bootswatch@4.5.2/dist/minty/bootstrap.min.css']\n",
    "REFRESH_TIME = 3000"
   ]
  },
  {
   "cell_type": "code",
   "execution_count": 3,
   "metadata": {},
   "outputs": [],
   "source": [
    "app = JupyterDash(__name__, external_stylesheets=[dbc.themes.MINTY])\n",
    "server = app.server"
   ]
  },
  {
   "cell_type": "code",
   "execution_count": 4,
   "metadata": {},
   "outputs": [],
   "source": [
    "def create_card(title='', width='100%'):\n",
    "    return dbc.Card(\n",
    "        [\n",
    "            dbc.CardBody([\n",
    "                html.H4(title, className='card-title'),\n",
    "                html.P('-', className='card-text', id='{}_card'.format(title.lower())),\n",
    "            ]),\n",
    "        ],\n",
    "        style={'width': width},\n",
    "    )"
   ]
  },
  {
   "cell_type": "code",
   "execution_count": 5,
   "metadata": {},
   "outputs": [],
   "source": [
    "app.layout = html.Div([\n",
    "    dcc.Interval(id='interval', interval=REFRESH_TIME),\n",
    "    dbc.Row([\n",
    "        create_card(title='Temperature', width='20%'),\n",
    "        create_card(title='Humidity', width='20%'),\n",
    "        create_card(title='Moisture', width='20%'),\n",
    "    ]),\n",
    "])"
   ]
  },
  {
   "cell_type": "code",
   "execution_count": 6,
   "metadata": {
    "tags": []
   },
   "outputs": [],
   "source": [
    "@app.callback(\n",
    "    Output('temperature_card', 'children'),\n",
    "    Output('humidity_card', 'children'),\n",
    "    Output('moisture_card', 'children'),\n",
    "    Input('interval', 'n_intervals')\n",
    ")\n",
    "def read_sensors(n_clicks):\n",
    "    sensors_data = requests.get('http://{}/read'.format(IP))\n",
    "    \n",
    "    if sensors_data.status_code != 200:\n",
    "        return ['-'] * 3\n",
    "    \n",
    "    values = sensors_data.json()\n",
    "    return values['temperature'], values['humidity'], values['moisture']"
   ]
  },
  {
   "cell_type": "code",
   "execution_count": 7,
   "metadata": {},
   "outputs": [
    {
     "data": {
      "text/html": [
       "\n",
       "        <iframe\n",
       "            width=\"100%\"\n",
       "            height=\"650\"\n",
       "            src=\"http://127.0.0.1:8050/\"\n",
       "            frameborder=\"0\"\n",
       "            allowfullscreen\n",
       "        ></iframe>\n",
       "        "
      ],
      "text/plain": [
       "<IPython.lib.display.IFrame at 0x7efe5dd7d0a0>"
      ]
     },
     "metadata": {},
     "output_type": "display_data"
    }
   ],
   "source": [
    "app.run_server(mode='inline', debug=True)"
   ]
  },
  {
   "cell_type": "code",
   "execution_count": 8,
   "metadata": {},
   "outputs": [
    {
     "name": "stdout",
     "output_type": "stream",
     "text": [
      "Dash app running on http://127.0.0.1:8050/\n"
     ]
    }
   ],
   "source": [
    "app.run_server()"
   ]
  }
 ],
 "metadata": {
  "kernelspec": {
   "display_name": "plant",
   "language": "python",
   "name": "plant"
  },
  "language_info": {
   "codemirror_mode": {
    "name": "ipython",
    "version": 3
   },
   "file_extension": ".py",
   "mimetype": "text/x-python",
   "name": "python",
   "nbconvert_exporter": "python",
   "pygments_lexer": "ipython3",
   "version": "3.8.10"
  }
 },
 "nbformat": 4,
 "nbformat_minor": 4
}

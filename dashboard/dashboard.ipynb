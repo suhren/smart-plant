{
 "cells": [
  {
   "cell_type": "code",
   "execution_count": 1,
   "metadata": {
    "tags": []
   },
   "outputs": [],
   "source": [
    "import time\n",
    "import requests\n",
    "import json\n",
    "import numpy as np\n",
    "\n",
    "from jupyter_dash import JupyterDash\n",
    "import dash\n",
    "import dash_daq as daq\n",
    "import dash_bootstrap_components as dbc\n",
    "import dash_core_components as dcc\n",
    "import dash_html_components as html\n",
    "\n",
    "from dash.dependencies import Input, Output"
   ]
  },
  {
   "cell_type": "code",
   "execution_count": 2,
   "metadata": {
    "tags": []
   },
   "outputs": [],
   "source": [
    "IP = '192.168.1.11'\n",
    "REFRESH_TIME = 3000\n",
    "\n",
    "with open('moisture_intervals.json', 'r') as f:\n",
    "    MOISTURE_INTERVALS = json.load(f)"
   ]
  },
  {
   "cell_type": "code",
   "execution_count": 3,
   "metadata": {},
   "outputs": [],
   "source": [
    "app = JupyterDash(__name__, external_stylesheets=[dbc.themes.MINTY])\n",
    "server = app.server"
   ]
  },
  {
   "cell_type": "code",
   "execution_count": 4,
   "metadata": {},
   "outputs": [],
   "source": [
    "temperature_card = dbc.Card([\n",
    "    dbc.CardBody([\n",
    "        html.H6('Temperature'),\n",
    "        html.H4([html.Span('-', id='temperature_value'), ' °C'],\n",
    "                className='text-center'),\n",
    "    ]),\n",
    "])\n",
    "\n",
    "humidity_card = dbc.Card([\n",
    "    dbc.CardBody([\n",
    "        html.H6('Humidity'),\n",
    "        html.H4([html.Span('-', id='humidity_value'), ' RH'],\n",
    "                className='text-center'),\n",
    "    ])\n",
    "])\n",
    "\n",
    "moisture_card = dbc.Card([\n",
    "    dbc.CardBody([\n",
    "        html.H6('Moisture'),\n",
    "        daq.GraduatedBar(\n",
    "            id='moisture_level',\n",
    "            max=max(MOISTURE_INTERVALS.values(),\n",
    "                    key=(lambda x: x[1]))[1],\n",
    "            showCurrentValue=True,\n",
    "            step=100,\n",
    "            color={'ranges': MOISTURE_INTERVALS,\n",
    "                   'gradient': True},\n",
    "            style={'display': 'flex', 'justifyContent': 'center'}\n",
    "        ),\n",
    "    ])\n",
    "])\n",
    "\n",
    "measurements_cards = dbc.CardDeck([temperature_card, humidity_card, moisture_card])"
   ]
  },
  {
   "cell_type": "code",
   "execution_count": 5,
   "metadata": {
    "tags": []
   },
   "outputs": [],
   "source": [
    "app.layout = html.Div(\n",
    "    [\n",
    "        dcc.Interval(id='interval', interval=REFRESH_TIME),\n",
    "        measurements_cards,\n",
    "    ],\n",
    "    style={'padding-left': '15%',\n",
    "           'padding-right': '15%'})"
   ]
  },
  {
   "cell_type": "code",
   "execution_count": 6,
   "metadata": {
    "tags": []
   },
   "outputs": [],
   "source": [
    "@app.callback(\n",
    "    Output('temperature_value', 'children'),\n",
    "    Output('humidity_value', 'children'),\n",
    "    Output('moisture_level', 'value'),\n",
    "    Input('interval', 'n_intervals')\n",
    ")\n",
    "def read_sensors(n_clicks):\n",
    "    # TODO: in case of any sensor returns None still update values for other sensors\n",
    "    for _ in range(10):\n",
    "        sensors_data = requests.get('http://{}/read'.format(IP),\n",
    "                                params={'n':5, 't':10})\n",
    "    \n",
    "        if sensors_data.status_code != 200:\n",
    "            continue\n",
    "        \n",
    "        values = sensors_data.json()\n",
    "        if any(None in v for v in values.values()):\n",
    "            continue\n",
    "        \n",
    "        avg_values = {k: np.mean(v) for k, v in values.items()}\n",
    "        if np.isnan(list(avg_values.values())).any():\n",
    "            continue\n",
    "            \n",
    "        return [avg_values[k] for k in ['temperature', 'humidity', 'moisture']]\n",
    "    \n",
    "    return ['-'] * 3"
   ]
  },
  {
   "cell_type": "code",
   "execution_count": 7,
   "metadata": {},
   "outputs": [
    {
     "data": {
      "text/html": [
       "\n",
       "        <iframe\n",
       "            width=\"100%\"\n",
       "            height=\"650\"\n",
       "            src=\"http://127.0.0.1:8050/\"\n",
       "            frameborder=\"0\"\n",
       "            allowfullscreen\n",
       "        ></iframe>\n",
       "        "
      ],
      "text/plain": [
       "<IPython.lib.display.IFrame at 0x7f3d8e12f400>"
      ]
     },
     "metadata": {},
     "output_type": "display_data"
    }
   ],
   "source": [
    "app.run_server(mode='inline', debug=True)"
   ]
  },
  {
   "cell_type": "code",
   "execution_count": 8,
   "metadata": {},
   "outputs": [
    {
     "name": "stdout",
     "output_type": "stream",
     "text": [
      "Dash app running on http://127.0.0.1:8050/\n"
     ]
    }
   ],
   "source": [
    "app.run_server()"
   ]
  },
  {
   "cell_type": "code",
   "execution_count": null,
   "metadata": {},
   "outputs": [],
   "source": []
  }
 ],
 "metadata": {
  "kernelspec": {
   "display_name": "plant",
   "language": "python",
   "name": "plant"
  },
  "language_info": {
   "codemirror_mode": {
    "name": "ipython",
    "version": 3
   },
   "file_extension": ".py",
   "mimetype": "text/x-python",
   "name": "python",
   "nbconvert_exporter": "python",
   "pygments_lexer": "ipython3",
   "version": "3.8.10"
  }
 },
 "nbformat": 4,
 "nbformat_minor": 4
}

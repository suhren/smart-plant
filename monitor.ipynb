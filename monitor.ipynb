{
 "metadata": {
  "language_info": {
   "codemirror_mode": {
    "name": "ipython",
    "version": 3
   },
   "file_extension": ".py",
   "mimetype": "text/x-python",
   "name": "python",
   "nbconvert_exporter": "python",
   "pygments_lexer": "ipython3",
   "version": "3.8.5"
  },
  "orig_nbformat": 4,
  "kernelspec": {
   "name": "codeword",
   "display_name": "Python 3.8.5 64-bit ('codeword': conda)"
  }
 },
 "nbformat": 4,
 "nbformat_minor": 2,
 "cells": [
  {
   "cell_type": "code",
   "execution_count": null,
   "metadata": {},
   "outputs": [],
   "source": [
    "import time\n",
    "import requests\n",
    "from datetime import datetime\n",
    "\n",
    "import numpy as np\n",
    "import pandas as pd\n",
    "from IPython import display\n",
    "import matplotlib.pyplot as plt"
   ]
  },
  {
   "cell_type": "code",
   "execution_count": null,
   "metadata": {},
   "outputs": [],
   "source": [
    "def read():\n",
    "    x = requests.get('http://192.168.1.125/read')\n",
    "    if x.status_code == 200:\n",
    "        json = x.json()\n",
    "        json['time'] = datetime.now()\n",
    "        return json\n",
    "    else:\n",
    "        return None\n",
    "\n",
    "def normalize(x, v_min=1000, v_max=2500):\n",
    "    x = min(max(x, v_min), v_max)\n",
    "    return (x - v_min) / (v_max - v_min)\n",
    "\n",
    "def moving_average(x, w=10):\n",
    "    return np.convolve(x, np.ones(w), 'valid') / w"
   ]
  },
  {
   "cell_type": "code",
   "execution_count": null,
   "metadata": {},
   "outputs": [],
   "source": [
    "data = pd.DataFrame()\n",
    "\n",
    "while True:\n",
    "    json = read()\n",
    "    data = data.append(json, ignore_index=True)\n",
    "    display.clear_output(wait=True)\n",
    "    data.plot(x='time', subplots=True, layout=(3, 1), figsize=(12, 8), grid=True, linewidth=2)\n",
    "    plt.show()"
   ]
  },
  {
   "cell_type": "code",
   "execution_count": null,
   "metadata": {},
   "outputs": [],
   "source": []
  }
 ]
}